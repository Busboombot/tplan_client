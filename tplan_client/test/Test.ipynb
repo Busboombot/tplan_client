{
 "cells": [
  {
   "cell_type": "code",
   "execution_count": 7,
   "metadata": {
    "pycharm": {
     "name": "#%%\n"
    }
   },
   "outputs": [
    {
     "name": "stdout",
     "output_type": "stream",
     "text": [
      "The autoreload extension is already loaded. To reload it, use:\n",
      "  %reload_ext autoreload\n"
     ]
    }
   ],
   "source": [
    "%load_ext autoreload\n",
    "%autoreload 2\n",
    "%matplotlib inline\n",
    "import logging\n",
    "\n",
    "from tplan_client.proto import SyncProto\n",
    "\n",
    "packet_port = '/dev/cu.usbmodem_Busbot_ss0011' # Test\n",
    "logging.basicConfig(level=logging.DEBUG)"
   ]
  },
  {
   "cell_type": "code",
   "execution_count": 8,
   "metadata": {
    "collapsed": false,
    "jupyter": {
     "outputs_hidden": false
    },
    "pycharm": {
     "name": "#%%\n"
    }
   },
   "outputs": [],
   "source": [
    "p = SyncProto(packet_port)\n",
    "p.run()\n"
   ]
  },
  {
   "cell_type": "code",
   "execution_count": 10,
   "metadata": {
    "collapsed": false,
    "jupyter": {
     "outputs_hidden": false
    },
    "pycharm": {
     "name": "#%%\n"
    }
   },
   "outputs": [
    {
     "name": "stderr",
     "output_type": "stream",
     "text": [
      "INFO:message:[Loop  run=0 stop=0 empty=1 lseg=0]\n",
      "INFO:message:[Planner  nj=1 ns=0]\n",
      "INFO:message:[Config axes=1 id=5 sp=21 lp=22 dp=0 dt=0]\n",
      "INFO:message:[AxisConfig 0 sp=3 dp=4 ep=5 eh=1 em=1 vm=5000 am=100000]\n",
      "INFO:message:[AxisConfig 1 sp=6 dp=7 ep=8 eh=1 em=1 vm=5000 am=100000]\n",
      "INFO:message:[AxisConfig 0 sp=0 dp=0 ep=0 eh=0 em=0 vm=0 am=0]\n",
      "INFO:message:[AxisConfig 0 sp=0 dp=0 ep=0 eh=0 em=0 vm=0 am=0]\n",
      "INFO:message:[AxisConfig 0 sp=0 dp=0 ep=0 eh=0 em=0 vm=0 am=0]\n",
      "INFO:message:[AxisConfig 0 sp=0 dp=0 ep=0 eh=0 em=0 vm=0 am=0]\n",
      "INFO:message:[CurrentState ql=0 qt=0 (0 0 0 0 0 0 ) (505159450 0 0 0 0 0 )]\n"
     ]
    }
   ],
   "source": [
    "p.stop()\n",
    "p.info()"
   ]
  },
  {
   "cell_type": "code",
   "execution_count": null,
   "outputs": [],
   "source": [],
   "metadata": {
    "collapsed": false,
    "pycharm": {
     "name": "#%%\n"
    }
   }
  }
 ],
 "metadata": {
  "kernelspec": {
   "display_name": "Python 3 (ipykernel)",
   "language": "python",
   "name": "python3"
  },
  "language_info": {
   "codemirror_mode": {
    "name": "ipython",
    "version": 3
   },
   "file_extension": ".py",
   "mimetype": "text/x-python",
   "name": "python",
   "nbconvert_exporter": "python",
   "pygments_lexer": "ipython3",
   "version": "3.9.12"
  }
 },
 "nbformat": 4,
 "nbformat_minor": 4
}