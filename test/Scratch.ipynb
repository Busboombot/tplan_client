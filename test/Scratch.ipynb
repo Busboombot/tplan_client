{
 "cells": [
  {
   "cell_type": "code",
   "execution_count": 1,
   "id": "adc9e5ac-85d3-4aa4-b177-8716f5a3a3ed",
   "metadata": {},
   "outputs": [],
   "source": [
    "\n",
    "class Crc8(object):\n",
    "    digest_size = 1\n",
    "    block_size = 1\n",
    "\n",
    "    _table = [0x00, 0x07, 0x0e, 0x09, 0x1c, 0x1b, 0x12, 0x15,\n",
    "              0x38, 0x3f, 0x36, 0x31, 0x24, 0x23, 0x2a, 0x2d,\n",
    "              0x70, 0x77, 0x7e, 0x79, 0x6c, 0x6b, 0x62, 0x65,\n",
    "              0x48, 0x4f, 0x46, 0x41, 0x54, 0x53, 0x5a, 0x5d,\n",
    "              0xe0, 0xe7, 0xee, 0xe9, 0xfc, 0xfb, 0xf2, 0xf5,\n",
    "              0xd8, 0xdf, 0xd6, 0xd1, 0xc4, 0xc3, 0xca, 0xcd,\n",
    "              0x90, 0x97, 0x9e, 0x99, 0x8c, 0x8b, 0x82, 0x85,\n",
    "              0xa8, 0xaf, 0xa6, 0xa1, 0xb4, 0xb3, 0xba, 0xbd,\n",
    "              0xc7, 0xc0, 0xc9, 0xce, 0xdb, 0xdc, 0xd5, 0xd2,\n",
    "              0xff, 0xf8, 0xf1, 0xf6, 0xe3, 0xe4, 0xed, 0xea,\n",
    "              0xb7, 0xb0, 0xb9, 0xbe, 0xab, 0xac, 0xa5, 0xa2,\n",
    "              0x8f, 0x88, 0x81, 0x86, 0x93, 0x94, 0x9d, 0x9a,\n",
    "              0x27, 0x20, 0x29, 0x2e, 0x3b, 0x3c, 0x35, 0x32,\n",
    "              0x1f, 0x18, 0x11, 0x16, 0x03, 0x04, 0x0d, 0x0a,\n",
    "              0x57, 0x50, 0x59, 0x5e, 0x4b, 0x4c, 0x45, 0x42,\n",
    "              0x6f, 0x68, 0x61, 0x66, 0x73, 0x74, 0x7d, 0x7a,\n",
    "              0x89, 0x8e, 0x87, 0x80, 0x95, 0x92, 0x9b, 0x9c,\n",
    "              0xb1, 0xb6, 0xbf, 0xb8, 0xad, 0xaa, 0xa3, 0xa4,\n",
    "              0xf9, 0xfe, 0xf7, 0xf0, 0xe5, 0xe2, 0xeb, 0xec,\n",
    "              0xc1, 0xc6, 0xcf, 0xc8, 0xdd, 0xda, 0xd3, 0xd4,\n",
    "              0x69, 0x6e, 0x67, 0x60, 0x75, 0x72, 0x7b, 0x7c,\n",
    "              0x51, 0x56, 0x5f, 0x58, 0x4d, 0x4a, 0x43, 0x44,\n",
    "              0x19, 0x1e, 0x17, 0x10, 0x05, 0x02, 0x0b, 0x0c,\n",
    "              0x21, 0x26, 0x2f, 0x28, 0x3d, 0x3a, 0x33, 0x34,\n",
    "              0x4e, 0x49, 0x40, 0x47, 0x52, 0x55, 0x5c, 0x5b,\n",
    "              0x76, 0x71, 0x78, 0x7f, 0x6a, 0x6d, 0x64, 0x63,\n",
    "              0x3e, 0x39, 0x30, 0x37, 0x22, 0x25, 0x2c, 0x2b,\n",
    "              0x06, 0x01, 0x08, 0x0f, 0x1a, 0x1d, 0x14, 0x13,\n",
    "              0xae, 0xa9, 0xa0, 0xa7, 0xb2, 0xb5, 0xbc, 0xbb,\n",
    "              0x96, 0x91, 0x98, 0x9f, 0x8a, 0x8d, 0x84, 0x83,\n",
    "              0xde, 0xd9, 0xd0, 0xd7, 0xc2, 0xc5, 0xcc, 0xcb,\n",
    "              0xe6, 0xe1, 0xe8, 0xef, 0xfa, 0xfd, 0xf4, 0xf3]\n",
    "\n",
    "    def __init__(self, initial_string=b'', initial_start=0x00):\n",
    "        \"\"\"Create a new crc8 hash instance.\"\"\"\n",
    "        self._sum = initial_start\n",
    "        self.update(initial_string)\n",
    "\n",
    "    def update(self, bytes_):\n",
    "        \"\"\"Update the hash object with the string arg.\n",
    "\n",
    "        Repeated calls are equivalent to a single call with the concatenation\n",
    "        of all the arguments: m.update(a); m.update(b) is equivalent\n",
    "        to m.update(a+b).\n",
    "        \"\"\"\n",
    "\n",
    "        if isinstance(bytes_, str):\n",
    "            raise TypeError(\"Unicode-objects must be encoded before\" \\\n",
    "                            \" hashing\")\n",
    "        elif not isinstance(bytes_, (bytes, bytearray)):\n",
    "            raise TypeError(\"object supporting the buffer API required\")\n",
    "        table = self._table\n",
    "        _sum = self._sum\n",
    "        for byte in bytes_:\n",
    "            _sum = table[_sum ^ byte]\n",
    "        self._sum = _sum\n",
    "\n",
    "        return self._sum\n",
    "\n",
    "    def digest(self):\n",
    "        \"\"\"Return the digest of the bytes passed to the update() method so far.\n",
    "\n",
    "        This is a string of digest_size bytes which may contain non-ASCII\n",
    "        characters, including null bytes.\n",
    "        \"\"\"\n",
    "        return bytes([self._sum])\n",
    "\n",
    "    def hexdigest(self):\n",
    "        \"\"\"Return digest() as hexadecimal string.\n",
    "\n",
    "        Like digest() except the digest is returned as a string of double\n",
    "        length, containing only hexadecimal digits. This may be used to\n",
    "        exchange the value safely in email or other non-binary environments.\n",
    "        \"\"\"\n",
    "        return hex(self._sum)[2:].zfill(2)\n",
    "\n",
    "def crc8(d):\n",
    "    return Crc8().update(d)\n",
    "\n"
   ]
  },
  {
   "cell_type": "code",
   "execution_count": 3,
   "id": "5af87a2f-7740-449b-8d17-7f15eff963cb",
   "metadata": {},
   "outputs": [
    {
     "data": {
      "text/plain": [
       "140"
      ]
     },
     "execution_count": 3,
     "metadata": {},
     "output_type": "execute_result"
    }
   ],
   "source": [
    "crc8(b'abcdef')"
   ]
  },
  {
   "cell_type": "code",
   "execution_count": null,
   "id": "ab205bab-8584-41d7-a1f8-0e489c4eafdd",
   "metadata": {},
   "outputs": [],
   "source": []
  }
 ],
 "metadata": {
  "kernelspec": {
   "display_name": "Python 3 (ipykernel)",
   "language": "python",
   "name": "python3"
  },
  "language_info": {
   "codemirror_mode": {
    "name": "ipython",
    "version": 3
   },
   "file_extension": ".py",
   "mimetype": "text/x-python",
   "name": "python",
   "nbconvert_exporter": "python",
   "pygments_lexer": "ipython3",
   "version": "3.9.12"
  }
 },
 "nbformat": 4,
 "nbformat_minor": 5
}
