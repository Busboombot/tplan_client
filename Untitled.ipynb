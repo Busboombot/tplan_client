{
 "cells": [
  {
   "cell_type": "code",
   "execution_count": 7,
   "id": "cea888d1-8d38-478a-9ee8-05fa602e6695",
   "metadata": {},
   "outputs": [],
   "source": [
    "from tplan_client.joystick import Button"
   ]
  },
  {
   "cell_type": "code",
   "execution_count": 11,
   "id": "08f56df0-466d-4bf0-bc4c-a21cb8435638",
   "metadata": {},
   "outputs": [
    {
     "data": {
      "text/plain": [
       "mappingproxy({'Y': <Button.Y: 'y'>,\n",
       "              'B': <Button.B: 'b'>,\n",
       "              'A': <Button.A: 'a'>,\n",
       "              'X': <Button.X: 'x'>,\n",
       "              'STICK_R': <Button.STICK_R: 'stick_r'>,\n",
       "              'STICK_L': <Button.STICK_L: 'stick_l'>,\n",
       "              'START': <Button.START: 'start'>,\n",
       "              'BACK': <Button.BACK: 'back'>,\n",
       "              'RT': <Button.RT: 'rt'>,\n",
       "              'LT': <Button.LT: 'lt'>,\n",
       "              'RB': <Button.RB: 'rb'>,\n",
       "              'LB': <Button.LB: 'lb'>})"
      ]
     },
     "execution_count": 11,
     "metadata": {},
     "output_type": "execute_result"
    }
   ],
   "source": [
    "Button.__members__"
   ]
  },
  {
   "cell_type": "code",
   "execution_count": null,
   "id": "147d5e26-d8c2-4f77-8acc-9f7007e5f038",
   "metadata": {},
   "outputs": [],
   "source": []
  }
 ],
 "metadata": {
  "kernelspec": {
   "display_name": "Python 3 (ipykernel)",
   "language": "python",
   "name": "python3"
  },
  "language_info": {
   "codemirror_mode": {
    "name": "ipython",
    "version": 3
   },
   "file_extension": ".py",
   "mimetype": "text/x-python",
   "name": "python",
   "nbconvert_exporter": "python",
   "pygments_lexer": "ipython3",
   "version": "3.9.12"
  }
 },
 "nbformat": 4,
 "nbformat_minor": 5
}
